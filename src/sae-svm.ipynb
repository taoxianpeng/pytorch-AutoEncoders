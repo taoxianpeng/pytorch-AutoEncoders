{
 "metadata": {
  "language_info": {
   "codemirror_mode": {
    "name": "ipython",
    "version": 3
   },
   "file_extension": ".py",
   "mimetype": "text/x-python",
   "name": "python",
   "nbconvert_exporter": "python",
   "pygments_lexer": "ipython3",
   "version": "3.8.5-final"
  },
  "orig_nbformat": 2,
  "kernelspec": {
   "name": "python3",
   "display_name": "Python 3.8.5 64-bit ('pytorch1.7': conda)",
   "metadata": {
    "interpreter": {
     "hash": "9a224c36395d8457150f042128cf7a9bbee2765468c84cd10847cea80e0b645b"
    }
   }
  }
 },
 "nbformat": 4,
 "nbformat_minor": 2,
 "cells": [
  {
   "cell_type": "code",
   "execution_count": 167,
   "metadata": {},
   "outputs": [],
   "source": [
    "from torchvision.datasets import ImageFolder\n",
    "import torch\n",
    "import torch.nn as nn\n",
    "import torch.nn.functional\n",
    "from sklearn.metrics import classification_report\n",
    "from sklearn import svm\n",
    "import matplotlib.pyplot as plt\n",
    "import numpy as np\n",
    "import pandas as pd\n",
    "from myDataset import MyDataset"
   ]
  },
  {
   "cell_type": "code",
   "execution_count": 158,
   "metadata": {},
   "outputs": [],
   "source": [
    "train_path = r'./datasets/train'\n",
    "test_path = r'./datasets/test'"
   ]
  },
  {
   "cell_type": "code",
   "execution_count": 159,
   "metadata": {},
   "outputs": [],
   "source": [
    "train_datasets = MyDataset(train_path,80).getDatasets()\n",
    "test_datasets = MyDataset(test_path,80).getDatasets()"
   ]
  },
  {
   "cell_type": "code",
   "execution_count": 160,
   "metadata": {
    "tags": []
   },
   "outputs": [],
   "source": [
    "class AutoEncoder(nn.Module):\n",
    "    def __init__(self, in_dim, hidden_size, out_dim):\n",
    "        super(AutoEncoder, self).__init__()\n",
    "        self.encoder = nn.Sequential(\n",
    "            nn.Linear(in_features=in_dim, out_features=hidden_size),\n",
    "            nn.ReLU()\n",
    "           \n",
    "        )\n",
    "        self.decoder = nn.Sequential(\n",
    "            nn.Linear(in_features=hidden_size, out_features=out_dim),\n",
    "            nn.Sigmoid()\n",
    "        )\n",
    "\n",
    "    def forward(self, x):\n",
    "        encoder_out = self.encoder(x)\n",
    "        decoder_out = self.decoder(encoder_out)\n",
    "        return encoder_out, decoder_out"
   ]
  },
  {
   "cell_type": "code",
   "execution_count": 161,
   "metadata": {},
   "outputs": [],
   "source": [
    "autoEncoder = torch.load('sae_modal.pt')"
   ]
  },
  {
   "cell_type": "code",
   "execution_count": 162,
   "metadata": {},
   "outputs": [],
   "source": [
    "train_datasets_loader = torch.utils.data.DataLoader(train_datasets)\n",
    "test_datasets_loader = torch.utils.data.DataLoader(test_datasets)"
   ]
  },
  {
   "cell_type": "code",
   "execution_count": 163,
   "metadata": {
    "tags": []
   },
   "outputs": [],
   "source": [
    "def loader_to_numpy(datasets_loader):\n",
    "    # 将DataLoader加载形式的数据转换成 numpy的形式，\n",
    "    # 便于后面svm的训练\n",
    "    #\n",
    "    data_list = []\n",
    "    label_list = []\n",
    "    for data, label in datasets_loader:\n",
    "        data_ = data.view(1,-1)\n",
    "        encoder, decoder = autoEncoder(data_)\n",
    "        \n",
    "        data_list.append(encoder.detach().numpy().tolist())\n",
    "        label_list.append(label)\n",
    "        \n",
    "    data_np = np.array(data_list).reshape((len(data_list),-1))\n",
    "    label_np = np.array(label_list).reshape((len(label_list),-1))\n",
    "\n",
    "    return data_np, label_np"
   ]
  },
  {
   "cell_type": "code",
   "execution_count": 249,
   "metadata": {},
   "outputs": [
    {
     "output_type": "execute_result",
     "data": {
      "text/plain": [
       "SVC(gamma=0.005)"
      ]
     },
     "metadata": {},
     "execution_count": 249
    }
   ],
   "source": [
    "train_data,train_label = loader_to_numpy(train_datasets_loader)\n",
    "#创建svm, 核函数为高斯函数\n",
    "classifier = svm.SVC(gamma=0.005)\n",
    "#训练svm\n",
    "classifier.fit(data,label)"
   ]
  },
  {
   "cell_type": "code",
   "execution_count": 250,
   "metadata": {},
   "outputs": [
    {
     "output_type": "execute_result",
     "data": {
      "text/plain": [
       "(1, 120)"
      ]
     },
     "metadata": {},
     "execution_count": 250
    }
   ],
   "source": [
    "train_data[0].reshape((1,-1)).shape"
   ]
  },
  {
   "cell_type": "code",
   "execution_count": 251,
   "metadata": {},
   "outputs": [
    {
     "output_type": "execute_result",
     "data": {
      "text/plain": [
       "array([0], dtype=int64)"
      ]
     },
     "metadata": {},
     "execution_count": 251
    }
   ],
   "source": [
    "classifier.predict(train_data[0].reshape((1,-1)))"
   ]
  },
  {
   "source": [
    "# 测试集评价模型"
   ],
   "cell_type": "markdown",
   "metadata": {}
  },
  {
   "cell_type": "code",
   "execution_count": 252,
   "metadata": {},
   "outputs": [
    {
     "output_type": "stream",
     "name": "stdout",
     "text": [
      "              precision    recall  f1-score   support\n\n           0       1.00      0.96      0.98      1071\n           1       0.92      0.99      0.95       524\n\n    accuracy                           0.97      1595\n   macro avg       0.96      0.98      0.97      1595\nweighted avg       0.97      0.97      0.97      1595\n\n"
     ]
    }
   ],
   "source": [
    "train_predict = classifier.predict(train_data)\n",
    "print(classification_report(train_predict,train_label))"
   ]
  },
  {
   "cell_type": "code",
   "execution_count": 253,
   "metadata": {},
   "outputs": [],
   "source": [
    "#转换数据\n",
    "test_data, test_label = loader_to_numpy(test_datasets_loader)\n",
    "#训练好的svm，对测试集进行预测\n",
    "test_predict = classifier.predict(test_data)"
   ]
  },
  {
   "cell_type": "code",
   "execution_count": 254,
   "metadata": {},
   "outputs": [
    {
     "output_type": "stream",
     "name": "stdout",
     "text": [
      "              precision    recall  f1-score   support\n\n           0       0.96      0.81      0.88       594\n           1       0.50      0.86      0.63       131\n\n    accuracy                           0.82       725\n   macro avg       0.73      0.84      0.76       725\nweighted avg       0.88      0.82      0.84       725\n\n"
     ]
    }
   ],
   "source": [
    "print(classification_report(test_predict,test_label))"
   ]
  },
  {
   "cell_type": "code",
   "execution_count": null,
   "metadata": {},
   "outputs": [],
   "source": []
  }
 ]
}